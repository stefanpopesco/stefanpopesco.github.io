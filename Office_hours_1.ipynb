{
  "nbformat": 4,
  "nbformat_minor": 0,
  "metadata": {
    "colab": {
      "provenance": [],
      "include_colab_link": true
    },
    "kernelspec": {
      "name": "python3",
      "display_name": "Python 3"
    },
    "language_info": {
      "name": "python"
    }
  },
  "cells": [
    {
      "cell_type": "markdown",
      "metadata": {
        "id": "view-in-github",
        "colab_type": "text"
      },
      "source": [
        "<a href=\"https://colab.research.google.com/github/stefanpopesco/stefanpopesco.github.io/blob/main/Office_hours_1.ipynb\" target=\"_parent\"><img src=\"https://colab.research.google.com/assets/colab-badge.svg\" alt=\"Open In Colab\"/></a>"
      ]
    },
    {
      "cell_type": "markdown",
      "source": [
        "SETUP"
      ],
      "metadata": {
        "id": "FPhBW3KMsem-"
      }
    },
    {
      "cell_type": "code",
      "execution_count": null,
      "metadata": {
        "id": "I-gk7KDbSnNc"
      },
      "outputs": [],
      "source": [
        "import einops\n",
        "import torch as t\n",
        "from torch import Tensor\n",
        "\n",
        "def assert_all_equal(actual: Tensor, expected: Tensor) -> None:\n",
        "    assert actual.shape == expected.shape, f\"Shape mismatch, got: {actual.shape}\"\n",
        "    assert (actual == expected).all(), f\"Value mismatch, got: {actual}\"\n",
        "    print(\"Tests passed!\")\n",
        "\n",
        "\n",
        "def assert_all_close(actual: Tensor, expected: Tensor, atol=1e-3) -> None:\n",
        "    assert actual.shape == expected.shape, f\"Shape mismatch, got: {actual.shape}\"\n",
        "    t.testing.assert_close(actual, expected, atol=atol, rtol=0.0)\n",
        "    print(\"Tests passed!\")"
      ]
    },
    {
      "cell_type": "markdown",
      "source": [
        "Task 1"
      ],
      "metadata": {
        "id": "btqk8wFfW5Ez"
      }
    },
    {
      "cell_type": "code",
      "source": [
        "def copy_along_dimension(input: Tensor, copies: int) -> Tensor:\n",
        "    \"\"\"Create a new tensor by copying the input tensor along a new dimension at the end.\n",
        "\n",
        "    input: Input tensor of any shape\n",
        "    copies: Number of copies to make along the new dimension\n",
        "\n",
        "    Return: Tensor with shape (*tens.shape, copies) where the last dimension contains\n",
        "    identical copies of the original tensor.\n",
        "\n",
        "    Use einops operations to implement this function.\n",
        "    \"\"\"\n",
        "    raise NotImplementedError()\n",
        "\n",
        "\n",
        "input = t.tensor([1, 2, 3])\n",
        "expected_result = t.tensor([[1, 1],\n",
        "                            [2, 2],\n",
        "                            [3, 3]])\n",
        "assert_all_equal(copy_along_dimension(input, 2), expected_result)"
      ],
      "metadata": {
        "colab": {
          "base_uri": "https://localhost:8080/"
        },
        "id": "wsbJGTYcLiJD",
        "outputId": "9564c423-1804-4583-c6e1-045e46b2a565"
      },
      "execution_count": null,
      "outputs": [
        {
          "output_type": "stream",
          "name": "stdout",
          "text": [
            "Tests passed!\n"
          ]
        }
      ]
    },
    {
      "cell_type": "markdown",
      "source": [
        "Task 2"
      ],
      "metadata": {
        "id": "avck7VM5tqwm"
      }
    },
    {
      "cell_type": "code",
      "source": [
        "def compute_ray_lengths(origins: Tensor, directions: Tensor,\n",
        "                       t_values: Tensor) -> Tensor:\n",
        "    \"\"\"\n",
        "    Calculate the 3D positions along rays at different distances.\n",
        "    Then compute the length of each resulting position vector (distance from origin).\n",
        "\n",
        "    Parameters:\n",
        "    - origins: The origin points of rays\n",
        "    - directions: The direction vectors of rays\n",
        "    - t_values: Distance values along each ray\n",
        "\n",
        "    Returns:\n",
        "    - lengths: The distance of each point from (0,0,0)\n",
        "\n",
        "    Hint: For each ray, the point at distance t is: origin + t * direction\n",
        "          The length of a position vector is its Euclidean distance from (0,0,0)\n",
        "    \"\"\"\n",
        "\n",
        "    raise NotImplementedError()\n",
        "\n",
        "origins = t.tensor([\n",
        "    [0.0, 0.0, 0.0],\n",
        "    [1.0, 0.0, 0.0],\n",
        "    [0.0, 2.0, 0.0]\n",
        "])\n",
        "\n",
        "directions = t.tensor([\n",
        "    [1.0, 0.0, 0.0],\n",
        "    [0.0, 1.0, 0.0],\n",
        "    [0.0, 0.0, 1.0]\n",
        "])\n",
        "\n",
        "t_values = t.tensor([5.0, 4.0, 3.0])\n",
        "lengths = compute_ray_lengths(origins, directions, t_values)\n",
        "expected = t.tensor([5.0, t.sqrt(t.tensor(17.0)), t.sqrt(t.tensor(13.0))])\n",
        "\n",
        "assert_all_close(compute_ray_lengths(origins, directions, t_values),\n",
        "                     expected)\n"
      ],
      "metadata": {
        "id": "JD0BXHkjtr2j"
      },
      "execution_count": null,
      "outputs": []
    },
    {
      "cell_type": "markdown",
      "source": [
        "Task 3(Bonus)"
      ],
      "metadata": {
        "id": "lKPiLyNN_jg_"
      }
    },
    {
      "cell_type": "code",
      "source": [
        "def reverse_tensor(input: Tensor) -> Tensor:\n",
        "    \"\"\"Reverse the order of elements in the input tensor.\n",
        "\n",
        "    input: 1D tensor\n",
        "\n",
        "    Return: Tensor with the same shape as x but with elements in reverse order.\n",
        "    Use einops.rearrange to implement this without using torch.flip.\n",
        "    \"\"\"\n",
        "    raise NotImplementedError()\n",
        "\n",
        "\n",
        "input = t.tensor([1, 2, 3, 4, 5])\n",
        "expected = t.tensor([5, 4, 3, 2, 1])\n",
        "assert_all_equal(reverse_tensor(input), expected)"
      ],
      "metadata": {
        "id": "EDfA8YBZ_iuo"
      },
      "execution_count": null,
      "outputs": []
    }
  ]
}